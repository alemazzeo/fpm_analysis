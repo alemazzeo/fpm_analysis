{
 "cells": [
  {
   "cell_type": "code",
   "execution_count": 6,
   "metadata": {},
   "outputs": [],
   "source": [
    "import numpy as np\n",
    "import matplotlib.pyplot as plt\n",
    "plt.rcParams['figure.figsize'] = [16, 8]\n",
    "import seaborn as sns; sns.set(style=\"white\", color_codes=True)\n",
    "from ipywidgets import interact, interactive, fixed, interact_manual\n",
    "import ipywidgets as widgets\n",
    "from fpm_analysis.simulate_phase import SimulatedPhaseResult, glass_BK7, glass_SF10, COLORS\n",
    "\n",
    "simulated_result = SimulatedPhaseResult(shape=(128, 128))"
   ]
  },
  {
   "cell_type": "code",
   "execution_count": 7,
   "metadata": {},
   "outputs": [
    {
     "data": {
      "application/vnd.jupyter.widget-view+json": {
       "model_id": "e9d01fd456ee4bd2b9a533fff498d8ac",
       "version_major": 2,
       "version_minor": 0
      },
      "text/plain": [
       "interactive(children=(Checkbox(value=True, description='same_material'), IntSlider(value=4, description='n_ste…"
      ]
     },
     "metadata": {},
     "output_type": "display_data"
    }
   ],
   "source": [
    "colors = sorted(COLORS.keys())\n",
    "@interact(same_material=True, \n",
    "          n_steps=(2,8,2), \n",
    "          dh=(0.0, 10.0, 1.0), \n",
    "          offset=(-1.0, 1.0, 1.0), \n",
    "          noise=(0.0, 1.0, 0.1))\n",
    "def make_ladder(same_material=True, n_steps=4, dh=10.0, offset=0.0, noise=1.0):\n",
    "    simulated_result.reset_sim()\n",
    "    simulated_result.make_ladder(same_material, n_steps, dh, offset)\n",
    "    simulated_result.add_random_normal_noise(noise)\n",
    "    fig, ax = plt.subplots(1, 2)\n",
    "    simulated_result.plot_phase(ax=ax[0])\n",
    "    r = simulated_result.plot_quotient('r/g', ax=ax[1])\n",
    "    # fig.colorbar(r)\n",
    "    plt.show()\n",
    "    text = (f'Steps: {n_steps}\\n'\n",
    "            f'Height: {dh}\\n'\n",
    "            f'Offset: {offset}\\n'\n",
    "            f'Noise: {noise}')\n",
    "    "
   ]
  },
  {
   "cell_type": "code",
   "execution_count": 8,
   "metadata": {},
   "outputs": [
    {
     "data": {
      "application/vnd.jupyter.widget-view+json": {
       "model_id": "113e56bee11140e9b49451c8709fd008",
       "version_major": 2,
       "version_minor": 0
      },
      "text/plain": [
       "interactive(children=(Dropdown(description='x', options=('r/g', 'r/b', 'g/r', 'g/b', 'b/r', 'b/g'), value='r/g…"
      ]
     },
     "metadata": {},
     "output_type": "display_data"
    }
   ],
   "source": [
    "@interact(x=['r/g', 'r/b', 'g/r', 'g/b', 'b/r', 'b/g'],\n",
    "          y=['r/g', 'r/b', 'g/r', 'g/b', 'b/r', 'b/g'],\n",
    "          r_shift=(0, 10.0, 1),\n",
    "          g_shift=(0, 10.0, 1),\n",
    "          b_shift=(0, 10.0, 1))\n",
    "def plot_quotients_2d(x='r/g', y='b/g', r_shift=0.0, g_shift=0.0, b_shift=0.0):\n",
    "    simulated_result.set_phase_shift(r=r_shift, g=g_shift, b=b_shift)\n",
    "    g = sns.jointplot(x=simulated_result.get_quotient(x), y=simulated_result.get_quotient(y))"
   ]
  },
  {
   "cell_type": "code",
   "execution_count": null,
   "metadata": {},
   "outputs": [],
   "source": []
  },
  {
   "cell_type": "code",
   "execution_count": null,
   "metadata": {},
   "outputs": [],
   "source": []
  }
 ],
 "metadata": {
  "kernelspec": {
   "display_name": "Python 3",
   "language": "python",
   "name": "python3"
  },
  "language_info": {
   "codemirror_mode": {
    "name": "ipython",
    "version": 3
   },
   "file_extension": ".py",
   "mimetype": "text/x-python",
   "name": "python",
   "nbconvert_exporter": "python",
   "pygments_lexer": "ipython3",
   "version": "3.7.3"
  }
 },
 "nbformat": 4,
 "nbformat_minor": 2
}
